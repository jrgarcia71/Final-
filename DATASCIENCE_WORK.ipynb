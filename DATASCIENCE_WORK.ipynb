{
 "cells": [
  {
   "cell_type": "code",
   "execution_count": null,
   "metadata": {},
   "outputs": [],
   "source": [
    "##Import the libraries"
   ]
  },
  {
   "cell_type": "code",
   "execution_count": 1,
   "metadata": {},
   "outputs": [
    {
     "name": "stdout",
     "output_type": "stream",
     "text": [
      "Libraries imported!\n"
     ]
    }
   ],
   "source": [
    "import numpy as np\n",
    "import pandas as pd\n",
    "pd.set_option('display.max_columns', None)\n",
    "pd.set_option('display.max_rows', None)\n",
    "\n",
    "import requests\n",
    "from pandas.io.json import json_normalize\n",
    "import json\n",
    "\n",
    "import requests\n",
    "import folium\n",
    "import geocoder\n",
    "from bs4 import BeautifulSoup\n",
    "\n",
    "import matplotlib.cm as cm\n",
    "import matplotlib.colors as colors\n",
    "\n",
    "from sklearn.cluster import KMeans\n",
    "\n",
    "print('Libraries imported!')"
   ]
  },
  {
   "cell_type": "code",
   "execution_count": null,
   "metadata": {},
   "outputs": [],
   "source": [
    "##USING SOUP##"
   ]
  },
  {
   "cell_type": "code",
   "execution_count": 2,
   "metadata": {},
   "outputs": [],
   "source": [
    "# open Wiki page with Beautiful Soup\n",
    "data = requests.get('https://en.wikipedia.org/wiki/List_of_postal_codes_of_Canada:_M').text\n",
    "soup = BeautifulSoup(data, 'html.parser')"
   ]
  },
  {
   "cell_type": "code",
   "execution_count": null,
   "metadata": {},
   "outputs": [],
   "source": [
    "##obtain DATA and Cleaning it##"
   ]
  },
  {
   "cell_type": "code",
   "execution_count": 3,
   "metadata": {},
   "outputs": [],
   "source": [
    "\n",
    "postalCodeList = []\n",
    "boroughList = []\n",
    "neighborhoodList = []\n",
    "\n",
    "for row in soup.find('table').find_all('tr'):\n",
    "    cells = row.find_all('td')\n",
    "    if(len(cells) > 0):\n",
    "        postalCodeList.append(cells[0].text)\n",
    "        boroughList.append(cells[1].text)\n",
    "        neighborhoodList.append(cells[2].text.rstrip('\\n')) # remove the new line char from neighborhood cell"
   ]
  },
  {
   "cell_type": "code",
   "execution_count": 4,
   "metadata": {},
   "outputs": [
    {
     "data": {
      "text/html": [
       "<div>\n",
       "<style scoped>\n",
       "    .dataframe tbody tr th:only-of-type {\n",
       "        vertical-align: middle;\n",
       "    }\n",
       "\n",
       "    .dataframe tbody tr th {\n",
       "        vertical-align: top;\n",
       "    }\n",
       "\n",
       "    .dataframe thead th {\n",
       "        text-align: right;\n",
       "    }\n",
       "</style>\n",
       "<table border=\"1\" class=\"dataframe\">\n",
       "  <thead>\n",
       "    <tr style=\"text-align: right;\">\n",
       "      <th></th>\n",
       "      <th>PostalCode</th>\n",
       "      <th>Borough</th>\n",
       "      <th>Neighborhood</th>\n",
       "    </tr>\n",
       "  </thead>\n",
       "  <tbody>\n",
       "    <tr>\n",
       "      <th>0</th>\n",
       "      <td>M1A</td>\n",
       "      <td>Not assigned</td>\n",
       "      <td>Not assigned</td>\n",
       "    </tr>\n",
       "    <tr>\n",
       "      <th>1</th>\n",
       "      <td>M2A</td>\n",
       "      <td>Not assigned</td>\n",
       "      <td>Not assigned</td>\n",
       "    </tr>\n",
       "    <tr>\n",
       "      <th>2</th>\n",
       "      <td>M3A</td>\n",
       "      <td>North York</td>\n",
       "      <td>Parkwoods</td>\n",
       "    </tr>\n",
       "    <tr>\n",
       "      <th>3</th>\n",
       "      <td>M4A</td>\n",
       "      <td>North York</td>\n",
       "      <td>Victoria Village</td>\n",
       "    </tr>\n",
       "    <tr>\n",
       "      <th>4</th>\n",
       "      <td>M5A</td>\n",
       "      <td>Downtown Toronto</td>\n",
       "      <td>Harbourfront</td>\n",
       "    </tr>\n",
       "  </tbody>\n",
       "</table>\n",
       "</div>"
      ],
      "text/plain": [
       "  PostalCode           Borough      Neighborhood\n",
       "0        M1A      Not assigned      Not assigned\n",
       "1        M2A      Not assigned      Not assigned\n",
       "2        M3A        North York         Parkwoods\n",
       "3        M4A        North York  Victoria Village\n",
       "4        M5A  Downtown Toronto      Harbourfront"
      ]
     },
     "execution_count": 4,
     "metadata": {},
     "output_type": "execute_result"
    }
   ],
   "source": [
    "toronto_neighorhood = [('PostalCode', postalCodeList),\n",
    "                      ('Borough', boroughList),\n",
    "                      ('Neighborhood', neighborhoodList)]\n",
    "toronto_df = pd.DataFrame.from_dict(dict(toronto_neighorhood))\n",
    "toronto_df.head()\n"
   ]
  },
  {
   "cell_type": "code",
   "execution_count": 5,
   "metadata": {},
   "outputs": [
    {
     "data": {
      "text/html": [
       "<div>\n",
       "<style scoped>\n",
       "    .dataframe tbody tr th:only-of-type {\n",
       "        vertical-align: middle;\n",
       "    }\n",
       "\n",
       "    .dataframe tbody tr th {\n",
       "        vertical-align: top;\n",
       "    }\n",
       "\n",
       "    .dataframe thead th {\n",
       "        text-align: right;\n",
       "    }\n",
       "</style>\n",
       "<table border=\"1\" class=\"dataframe\">\n",
       "  <thead>\n",
       "    <tr style=\"text-align: right;\">\n",
       "      <th></th>\n",
       "      <th>PostalCode</th>\n",
       "      <th>Borough</th>\n",
       "      <th>Neighborhood</th>\n",
       "    </tr>\n",
       "  </thead>\n",
       "  <tbody>\n",
       "    <tr>\n",
       "      <th>0</th>\n",
       "      <td>M3A</td>\n",
       "      <td>North York</td>\n",
       "      <td>Parkwoods</td>\n",
       "    </tr>\n",
       "    <tr>\n",
       "      <th>1</th>\n",
       "      <td>M4A</td>\n",
       "      <td>North York</td>\n",
       "      <td>Victoria Village</td>\n",
       "    </tr>\n",
       "    <tr>\n",
       "      <th>2</th>\n",
       "      <td>M5A</td>\n",
       "      <td>Downtown Toronto</td>\n",
       "      <td>Harbourfront</td>\n",
       "    </tr>\n",
       "    <tr>\n",
       "      <th>3</th>\n",
       "      <td>M5A</td>\n",
       "      <td>Downtown Toronto</td>\n",
       "      <td>Regent Park</td>\n",
       "    </tr>\n",
       "    <tr>\n",
       "      <th>4</th>\n",
       "      <td>M6A</td>\n",
       "      <td>North York</td>\n",
       "      <td>Lawrence Heights</td>\n",
       "    </tr>\n",
       "  </tbody>\n",
       "</table>\n",
       "</div>"
      ],
      "text/plain": [
       "  PostalCode           Borough      Neighborhood\n",
       "0        M3A        North York         Parkwoods\n",
       "1        M4A        North York  Victoria Village\n",
       "2        M5A  Downtown Toronto      Harbourfront\n",
       "3        M5A  Downtown Toronto       Regent Park\n",
       "4        M6A        North York  Lawrence Heights"
      ]
     },
     "execution_count": 5,
     "metadata": {},
     "output_type": "execute_result"
    }
   ],
   "source": [
    "toronto_df_dropna = toronto_df[toronto_df.Borough != 'Not assigned'].reset_index(drop=True)\n",
    "toronto_df_dropna.head()"
   ]
  },
  {
   "cell_type": "code",
   "execution_count": 6,
   "metadata": {},
   "outputs": [
    {
     "data": {
      "text/html": [
       "<div>\n",
       "<style scoped>\n",
       "    .dataframe tbody tr th:only-of-type {\n",
       "        vertical-align: middle;\n",
       "    }\n",
       "\n",
       "    .dataframe tbody tr th {\n",
       "        vertical-align: top;\n",
       "    }\n",
       "\n",
       "    .dataframe thead th {\n",
       "        text-align: right;\n",
       "    }\n",
       "</style>\n",
       "<table border=\"1\" class=\"dataframe\">\n",
       "  <thead>\n",
       "    <tr style=\"text-align: right;\">\n",
       "      <th></th>\n",
       "      <th>PostalCode</th>\n",
       "      <th>Borough</th>\n",
       "      <th>Neighborhood</th>\n",
       "    </tr>\n",
       "  </thead>\n",
       "  <tbody>\n",
       "    <tr>\n",
       "      <th>0</th>\n",
       "      <td>M1B</td>\n",
       "      <td>Scarborough</td>\n",
       "      <td>Rouge,Malvern</td>\n",
       "    </tr>\n",
       "    <tr>\n",
       "      <th>1</th>\n",
       "      <td>M1C</td>\n",
       "      <td>Scarborough</td>\n",
       "      <td>Highland Creek,Rouge Hill,Port Union</td>\n",
       "    </tr>\n",
       "    <tr>\n",
       "      <th>2</th>\n",
       "      <td>M1E</td>\n",
       "      <td>Scarborough</td>\n",
       "      <td>Guildwood,Morningside,West Hill</td>\n",
       "    </tr>\n",
       "    <tr>\n",
       "      <th>3</th>\n",
       "      <td>M1G</td>\n",
       "      <td>Scarborough</td>\n",
       "      <td>Woburn</td>\n",
       "    </tr>\n",
       "    <tr>\n",
       "      <th>4</th>\n",
       "      <td>M1H</td>\n",
       "      <td>Scarborough</td>\n",
       "      <td>Cedarbrae</td>\n",
       "    </tr>\n",
       "  </tbody>\n",
       "</table>\n",
       "</div>"
      ],
      "text/plain": [
       "  PostalCode      Borough                          Neighborhood\n",
       "0        M1B  Scarborough                         Rouge,Malvern\n",
       "1        M1C  Scarborough  Highland Creek,Rouge Hill,Port Union\n",
       "2        M1E  Scarborough       Guildwood,Morningside,West Hill\n",
       "3        M1G  Scarborough                                Woburn\n",
       "4        M1H  Scarborough                             Cedarbrae"
      ]
     },
     "execution_count": 6,
     "metadata": {},
     "output_type": "execute_result"
    }
   ],
   "source": [
    "toronto_df_grouped = toronto_df_dropna.groupby(['PostalCode','Borough'], as_index=False).agg(lambda x: ','.join(x))\n",
    "toronto_df_grouped.head()"
   ]
  },
  {
   "cell_type": "code",
   "execution_count": 7,
   "metadata": {},
   "outputs": [
    {
     "data": {
      "text/html": [
       "<div>\n",
       "<style scoped>\n",
       "    .dataframe tbody tr th:only-of-type {\n",
       "        vertical-align: middle;\n",
       "    }\n",
       "\n",
       "    .dataframe tbody tr th {\n",
       "        vertical-align: top;\n",
       "    }\n",
       "\n",
       "    .dataframe thead th {\n",
       "        text-align: right;\n",
       "    }\n",
       "</style>\n",
       "<table border=\"1\" class=\"dataframe\">\n",
       "  <thead>\n",
       "    <tr style=\"text-align: right;\">\n",
       "      <th></th>\n",
       "      <th>PostalCode</th>\n",
       "      <th>Borough</th>\n",
       "      <th>Neighborhood</th>\n",
       "    </tr>\n",
       "  </thead>\n",
       "  <tbody>\n",
       "    <tr>\n",
       "      <th>85</th>\n",
       "      <td>M7A</td>\n",
       "      <td>Queen's Park</td>\n",
       "      <td>Queen's Park</td>\n",
       "    </tr>\n",
       "  </tbody>\n",
       "</table>\n",
       "</div>"
      ],
      "text/plain": [
       "   PostalCode       Borough  Neighborhood\n",
       "85        M7A  Queen's Park  Queen's Park"
      ]
     },
     "execution_count": 7,
     "metadata": {},
     "output_type": "execute_result"
    }
   ],
   "source": [
    "na_neigh_rows = toronto_df_grouped.Neighborhood == 'Not assigned'\n",
    "toronto_df_grouped.loc[na_neigh_rows, 'Neighborhood'] = toronto_df_grouped.loc[na_neigh_rows, 'Borough']\n",
    "toronto_df_grouped[na_neigh_rows]"
   ]
  },
  {
   "cell_type": "code",
   "execution_count": null,
   "metadata": {},
   "outputs": [],
   "source": [
    "##FIRST PART##"
   ]
  },
  {
   "cell_type": "code",
   "execution_count": 8,
   "metadata": {},
   "outputs": [
    {
     "data": {
      "text/plain": [
       "(103, 3)"
      ]
     },
     "execution_count": 8,
     "metadata": {},
     "output_type": "execute_result"
    }
   ],
   "source": [
    "toronto_df_cleaned = toronto_df_grouped\n",
    "toronto_df_cleaned.shape\n"
   ]
  },
  {
   "cell_type": "code",
   "execution_count": null,
   "metadata": {},
   "outputs": [],
   "source": [
    "*starting second Part*"
   ]
  },
  {
   "cell_type": "code",
   "execution_count": 19,
   "metadata": {},
   "outputs": [],
   "source": [
    "import pandas as pd\n",
    "coors=pd.read_csv(\"https://cocl.us/Geospatial_data\")"
   ]
  },
  {
   "cell_type": "code",
   "execution_count": 20,
   "metadata": {},
   "outputs": [
    {
     "data": {
      "text/html": [
       "<div>\n",
       "<style scoped>\n",
       "    .dataframe tbody tr th:only-of-type {\n",
       "        vertical-align: middle;\n",
       "    }\n",
       "\n",
       "    .dataframe tbody tr th {\n",
       "        vertical-align: top;\n",
       "    }\n",
       "\n",
       "    .dataframe thead th {\n",
       "        text-align: right;\n",
       "    }\n",
       "</style>\n",
       "<table border=\"1\" class=\"dataframe\">\n",
       "  <thead>\n",
       "    <tr style=\"text-align: right;\">\n",
       "      <th></th>\n",
       "      <th>Postal Code</th>\n",
       "      <th>Latitude</th>\n",
       "      <th>Longitude</th>\n",
       "    </tr>\n",
       "  </thead>\n",
       "  <tbody>\n",
       "    <tr>\n",
       "      <th>0</th>\n",
       "      <td>M1B</td>\n",
       "      <td>43.806686</td>\n",
       "      <td>-79.194353</td>\n",
       "    </tr>\n",
       "    <tr>\n",
       "      <th>1</th>\n",
       "      <td>M1C</td>\n",
       "      <td>43.784535</td>\n",
       "      <td>-79.160497</td>\n",
       "    </tr>\n",
       "    <tr>\n",
       "      <th>2</th>\n",
       "      <td>M1E</td>\n",
       "      <td>43.763573</td>\n",
       "      <td>-79.188711</td>\n",
       "    </tr>\n",
       "    <tr>\n",
       "      <th>3</th>\n",
       "      <td>M1G</td>\n",
       "      <td>43.770992</td>\n",
       "      <td>-79.216917</td>\n",
       "    </tr>\n",
       "    <tr>\n",
       "      <th>4</th>\n",
       "      <td>M1H</td>\n",
       "      <td>43.773136</td>\n",
       "      <td>-79.239476</td>\n",
       "    </tr>\n",
       "  </tbody>\n",
       "</table>\n",
       "</div>"
      ],
      "text/plain": [
       "  Postal Code   Latitude  Longitude\n",
       "0         M1B  43.806686 -79.194353\n",
       "1         M1C  43.784535 -79.160497\n",
       "2         M1E  43.763573 -79.188711\n",
       "3         M1G  43.770992 -79.216917\n",
       "4         M1H  43.773136 -79.239476"
      ]
     },
     "execution_count": 20,
     "metadata": {},
     "output_type": "execute_result"
    }
   ],
   "source": [
    "coors.head()\n"
   ]
  },
  {
   "cell_type": "code",
   "execution_count": 21,
   "metadata": {},
   "outputs": [
    {
     "name": "stdout",
     "output_type": "stream",
     "text": [
      "(103, 5)\n"
     ]
    },
    {
     "data": {
      "text/html": [
       "<div>\n",
       "<style scoped>\n",
       "    .dataframe tbody tr th:only-of-type {\n",
       "        vertical-align: middle;\n",
       "    }\n",
       "\n",
       "    .dataframe tbody tr th {\n",
       "        vertical-align: top;\n",
       "    }\n",
       "\n",
       "    .dataframe thead th {\n",
       "        text-align: right;\n",
       "    }\n",
       "</style>\n",
       "<table border=\"1\" class=\"dataframe\">\n",
       "  <thead>\n",
       "    <tr style=\"text-align: right;\">\n",
       "      <th></th>\n",
       "      <th>PostalCode</th>\n",
       "      <th>Borough</th>\n",
       "      <th>Neighborhood</th>\n",
       "      <th>Latitude</th>\n",
       "      <th>Longitude</th>\n",
       "    </tr>\n",
       "  </thead>\n",
       "  <tbody>\n",
       "    <tr>\n",
       "      <th>0</th>\n",
       "      <td>M1B</td>\n",
       "      <td>Scarborough</td>\n",
       "      <td>Rouge,Malvern</td>\n",
       "      <td>43.806686</td>\n",
       "      <td>-79.194353</td>\n",
       "    </tr>\n",
       "    <tr>\n",
       "      <th>1</th>\n",
       "      <td>M1C</td>\n",
       "      <td>Scarborough</td>\n",
       "      <td>Highland Creek,Rouge Hill,Port Union</td>\n",
       "      <td>43.784535</td>\n",
       "      <td>-79.160497</td>\n",
       "    </tr>\n",
       "    <tr>\n",
       "      <th>2</th>\n",
       "      <td>M1E</td>\n",
       "      <td>Scarborough</td>\n",
       "      <td>Guildwood,Morningside,West Hill</td>\n",
       "      <td>43.763573</td>\n",
       "      <td>-79.188711</td>\n",
       "    </tr>\n",
       "    <tr>\n",
       "      <th>3</th>\n",
       "      <td>M1G</td>\n",
       "      <td>Scarborough</td>\n",
       "      <td>Woburn</td>\n",
       "      <td>43.770992</td>\n",
       "      <td>-79.216917</td>\n",
       "    </tr>\n",
       "    <tr>\n",
       "      <th>4</th>\n",
       "      <td>M1H</td>\n",
       "      <td>Scarborough</td>\n",
       "      <td>Cedarbrae</td>\n",
       "      <td>43.773136</td>\n",
       "      <td>-79.239476</td>\n",
       "    </tr>\n",
       "  </tbody>\n",
       "</table>\n",
       "</div>"
      ],
      "text/plain": [
       "  PostalCode      Borough                          Neighborhood   Latitude  \\\n",
       "0        M1B  Scarborough                         Rouge,Malvern  43.806686   \n",
       "1        M1C  Scarborough  Highland Creek,Rouge Hill,Port Union  43.784535   \n",
       "2        M1E  Scarborough       Guildwood,Morningside,West Hill  43.763573   \n",
       "3        M1G  Scarborough                                Woburn  43.770992   \n",
       "4        M1H  Scarborough                             Cedarbrae  43.773136   \n",
       "\n",
       "   Longitude  \n",
       "0 -79.194353  \n",
       "1 -79.160497  \n",
       "2 -79.188711  \n",
       "3 -79.216917  \n",
       "4 -79.239476  "
      ]
     },
     "execution_count": 21,
     "metadata": {},
     "output_type": "execute_result"
    }
   ],
   "source": [
    "toronto_df_temp = toronto_df_cleaned.set_index('PostalCode')\n",
    "coors_temp = coors.set_index('Postal Code')\n",
    "toronto_df_coors = pd.concat([toronto_df_temp, coors_temp], axis=1, join='inner')\n",
    "\n",
    "toronto_df_coors.index.name = 'PostalCode'\n",
    "toronto_df_coors.reset_index(inplace=True)\n",
    "\n",
    "print(toronto_df_coors.shape)\n",
    "toronto_df_coors.head()"
   ]
  },
  {
   "cell_type": "code",
   "execution_count": 28,
   "metadata": {},
   "outputs": [
    {
     "name": "stdout",
     "output_type": "stream",
     "text": [
      "The geograpical coordinates of Toronto are 43.653963, -79.387207.\n"
     ]
    }
   ],
   "source": [
    "from geopy.geocoders import Nominatim\n",
    "\n",
    "address = 'Toronto, Ontario'\n",
    "\n",
    "geolocator = Nominatim(user_agent=\"tl-toronto-neigh\")\n",
    "location = geolocator.geocode(address)\n",
    "latitude = location.latitude\n",
    "longitude = location.longitude\n",
    "print('The geograpical coordinates of Toronto are {}, {}.'.format(latitude, longitude))"
   ]
  },
  {
   "cell_type": "code",
   "execution_count": 29,
   "metadata": {},
   "outputs": [
    {
     "data": {
      "text/html": [
       "<div style=\"width:100%;\"><div style=\"position:relative;width:100%;height:0;padding-bottom:60%;\"><iframe src=\"data:text/html;charset=utf-8;base64,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\" style=\"position:absolute;width:100%;height:100%;left:0;top:0;border:none !important;\" allowfullscreen webkitallowfullscreen mozallowfullscreen></iframe></div></div>"
      ],
      "text/plain": [
       "<folium.folium.Map at 0x1bb59481588>"
      ]
     },
     "execution_count": 29,
     "metadata": {},
     "output_type": "execute_result"
    }
   ],
   "source": [
    "map_toronto = folium.Map(location=[latitude, longitude], zoom_start=11)\n",
    "\n",
    "for lat, long, post, borough, neigh in zip(toronto_df_coors['Latitude'], toronto_df_coors['Longitude'], toronto_df_coors['PostalCode'], toronto_df_coors['Borough'], toronto_df_coors['Neighborhood']):\n",
    "    label = \"{} ({}): {}\".format(borough, post, neigh)\n",
    "    popup = folium.Popup(label, parse_html=True)\n",
    "    folium.CircleMarker(\n",
    "        [lat, long],\n",
    "        radius=5,\n",
    "        popup=popup,\n",
    "        color='blue',\n",
    "        fill=True,\n",
    "        fill_color='#3186cc',\n",
    "        fill_opacity=0.7,\n",
    "        parse_html=False).add_to(map_toronto)\n",
    "    \n",
    "map_toronto"
   ]
  },
  {
   "cell_type": "code",
   "execution_count": 30,
   "metadata": {},
   "outputs": [
    {
     "name": "stdout",
     "output_type": "stream",
     "text": [
      "(38, 5)\n"
     ]
    },
    {
     "data": {
      "text/html": [
       "<div>\n",
       "<style scoped>\n",
       "    .dataframe tbody tr th:only-of-type {\n",
       "        vertical-align: middle;\n",
       "    }\n",
       "\n",
       "    .dataframe tbody tr th {\n",
       "        vertical-align: top;\n",
       "    }\n",
       "\n",
       "    .dataframe thead th {\n",
       "        text-align: right;\n",
       "    }\n",
       "</style>\n",
       "<table border=\"1\" class=\"dataframe\">\n",
       "  <thead>\n",
       "    <tr style=\"text-align: right;\">\n",
       "      <th></th>\n",
       "      <th>PostalCode</th>\n",
       "      <th>Borough</th>\n",
       "      <th>Neighborhood</th>\n",
       "      <th>Latitude</th>\n",
       "      <th>Longitude</th>\n",
       "    </tr>\n",
       "  </thead>\n",
       "  <tbody>\n",
       "    <tr>\n",
       "      <th>0</th>\n",
       "      <td>M4E</td>\n",
       "      <td>East Toronto</td>\n",
       "      <td>The Beaches</td>\n",
       "      <td>43.676357</td>\n",
       "      <td>-79.293031</td>\n",
       "    </tr>\n",
       "    <tr>\n",
       "      <th>1</th>\n",
       "      <td>M4K</td>\n",
       "      <td>East Toronto</td>\n",
       "      <td>The Danforth West,Riverdale</td>\n",
       "      <td>43.679557</td>\n",
       "      <td>-79.352188</td>\n",
       "    </tr>\n",
       "    <tr>\n",
       "      <th>2</th>\n",
       "      <td>M4L</td>\n",
       "      <td>East Toronto</td>\n",
       "      <td>The Beaches West,India Bazaar</td>\n",
       "      <td>43.668999</td>\n",
       "      <td>-79.315572</td>\n",
       "    </tr>\n",
       "    <tr>\n",
       "      <th>3</th>\n",
       "      <td>M4M</td>\n",
       "      <td>East Toronto</td>\n",
       "      <td>Studio District</td>\n",
       "      <td>43.659526</td>\n",
       "      <td>-79.340923</td>\n",
       "    </tr>\n",
       "    <tr>\n",
       "      <th>4</th>\n",
       "      <td>M4N</td>\n",
       "      <td>Central Toronto</td>\n",
       "      <td>Lawrence Park</td>\n",
       "      <td>43.728020</td>\n",
       "      <td>-79.388790</td>\n",
       "    </tr>\n",
       "  </tbody>\n",
       "</table>\n",
       "</div>"
      ],
      "text/plain": [
       "  PostalCode          Borough                   Neighborhood   Latitude  \\\n",
       "0        M4E     East Toronto                    The Beaches  43.676357   \n",
       "1        M4K     East Toronto    The Danforth West,Riverdale  43.679557   \n",
       "2        M4L     East Toronto  The Beaches West,India Bazaar  43.668999   \n",
       "3        M4M     East Toronto                Studio District  43.659526   \n",
       "4        M4N  Central Toronto                  Lawrence Park  43.728020   \n",
       "\n",
       "   Longitude  \n",
       "0 -79.293031  \n",
       "1 -79.352188  \n",
       "2 -79.315572  \n",
       "3 -79.340923  \n",
       "4 -79.388790  "
      ]
     },
     "execution_count": 30,
     "metadata": {},
     "output_type": "execute_result"
    }
   ],
   "source": [
    "toronto_boroughs = ['East Toronto', 'Central Toronto', 'Downtown Toronto', 'West Toronto']\n",
    "toronto_central_df = toronto_df_coors[toronto_df_coors['Borough'].isin(toronto_boroughs)].reset_index(drop=True)\n",
    "print(toronto_central_df.shape)\n",
    "toronto_central_df.head()"
   ]
  },
  {
   "cell_type": "code",
   "execution_count": 31,
   "metadata": {},
   "outputs": [
    {
     "data": {
      "text/html": [
       "<div style=\"width:100%;\"><div style=\"position:relative;width:100%;height:0;padding-bottom:60%;\"><iframe src=\"data:text/html;charset=utf-8;base64,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\" style=\"position:absolute;width:100%;height:100%;left:0;top:0;border:none !important;\" allowfullscreen webkitallowfullscreen mozallowfullscreen></iframe></div></div>"
      ],
      "text/plain": [
       "<folium.folium.Map at 0x1bb59571be0>"
      ]
     },
     "execution_count": 31,
     "metadata": {},
     "output_type": "execute_result"
    }
   ],
   "source": [
    "map_toronto = folium.Map(location=[latitude, longitude], zoom_start=12)\n",
    "\n",
    "for lat, long, post, borough, neigh in zip(toronto_central_df['Latitude'], toronto_central_df['Longitude'], toronto_central_df['PostalCode'], toronto_central_df['Borough'], toronto_central_df['Neighborhood']):\n",
    "    label = \"{} ({}): {}\".format(borough, post, neigh)\n",
    "    popup = folium.Popup(label, parse_html=True)\n",
    "    folium.CircleMarker(\n",
    "        [lat, long],\n",
    "        radius=5,\n",
    "        popup=popup,\n",
    "        color='blue',\n",
    "        fill=True,\n",
    "        fill_color='#3186cc',\n",
    "        fill_opacity=0.7,\n",
    "        parse_html=False).add_to(map_toronto)\n",
    "    \n",
    "map_toronto"
   ]
  },
  {
   "cell_type": "code",
   "execution_count": 32,
   "metadata": {},
   "outputs": [
    {
     "name": "stdout",
     "output_type": "stream",
     "text": [
      "Your credentails:\n",
      "CLIENT_ID: 54GU41KXZPLVE2IUFD2TSPOJVTLCROC1VTWAEYK3YEKIBYU5\n",
      "CLIENT_SECRET:P2DVHDL0WHSWNSZHSWKJBEBZXRROKWDO2APFCQWQ1CJMFJMG\n"
     ]
    }
   ],
   "source": [
    "CLIENT_ID = '54GU41KXZPLVE2IUFD2TSPOJVTLCROC1VTWAEYK3YEKIBYU5' # your Foursquare ID\n",
    "CLIENT_SECRET = 'P2DVHDL0WHSWNSZHSWKJBEBZXRROKWDO2APFCQWQ1CJMFJMG' # your Foursquare Secret\n",
    "VERSION = '20190330' # Foursquare API version\n",
    "\n",
    "print('Your credentails:')\n",
    "print('CLIENT_ID: ' + CLIENT_ID)\n",
    "print('CLIENT_SECRET:' + CLIENT_SECRET)"
   ]
  },
  {
   "cell_type": "code",
   "execution_count": 35,
   "metadata": {},
   "outputs": [],
   "source": [
    "radius = 500\n",
    "LIMIT = 100\n",
    "\n",
    "venues = []\n",
    "\n",
    "for lat, long, post, borough, neighborhood in zip(toronto_central_df['Latitude'], toronto_central_df['Longitude'], toronto_central_df['PostalCode'], toronto_central_df['Borough'], toronto_central_df['Neighborhood']):\n",
    "    url = \"https://api.foursquare.com/v2/venues/explore?client_id={}&client_secret={}&v={}&ll={},{}&radius={}&limit={}\".format(\n",
    "        CLIENT_ID,\n",
    "        CLIENT_SECRET,\n",
    "        VERSION,\n",
    "        lat,\n",
    "        long,\n",
    "        radius, \n",
    "        LIMIT)\n",
    "    \n",
    "    \n",
    "    for venue in results:\n",
    "        venues.append((\n",
    "            post, \n",
    "            borough,\n",
    "            neighborhood,\n",
    "            lat, \n",
    "            long, \n",
    "            venue['venue']['name'], \n",
    "            venue['venue']['location']['lat'], \n",
    "            venue['venue']['location']['lng'],  \n",
    "            venue['venue']['categories'][0]['name']))"
   ]
  },
  {
   "cell_type": "code",
   "execution_count": 36,
   "metadata": {},
   "outputs": [
    {
     "name": "stdout",
     "output_type": "stream",
     "text": [
      "(38, 9)\n"
     ]
    },
    {
     "data": {
      "text/html": [
       "<div>\n",
       "<style scoped>\n",
       "    .dataframe tbody tr th:only-of-type {\n",
       "        vertical-align: middle;\n",
       "    }\n",
       "\n",
       "    .dataframe tbody tr th {\n",
       "        vertical-align: top;\n",
       "    }\n",
       "\n",
       "    .dataframe thead th {\n",
       "        text-align: right;\n",
       "    }\n",
       "</style>\n",
       "<table border=\"1\" class=\"dataframe\">\n",
       "  <thead>\n",
       "    <tr style=\"text-align: right;\">\n",
       "      <th></th>\n",
       "      <th>PostalCode</th>\n",
       "      <th>Borough</th>\n",
       "      <th>Neighborhood</th>\n",
       "      <th>BoroughLatitude</th>\n",
       "      <th>BoroughLongitude</th>\n",
       "      <th>VenueName</th>\n",
       "      <th>VenueLatitude</th>\n",
       "      <th>VenueLongitude</th>\n",
       "      <th>VenueCategory</th>\n",
       "    </tr>\n",
       "  </thead>\n",
       "  <tbody>\n",
       "    <tr>\n",
       "      <th>0</th>\n",
       "      <td>M4E</td>\n",
       "      <td>East Toronto</td>\n",
       "      <td>The Beaches</td>\n",
       "      <td>43.676357</td>\n",
       "      <td>-79.293031</td>\n",
       "      <td>Moorevale Park</td>\n",
       "      <td>43.69361</td>\n",
       "      <td>-79.383465</td>\n",
       "      <td>Playground</td>\n",
       "    </tr>\n",
       "    <tr>\n",
       "      <th>1</th>\n",
       "      <td>M4K</td>\n",
       "      <td>East Toronto</td>\n",
       "      <td>The Danforth West,Riverdale</td>\n",
       "      <td>43.679557</td>\n",
       "      <td>-79.352188</td>\n",
       "      <td>Moorevale Park</td>\n",
       "      <td>43.69361</td>\n",
       "      <td>-79.383465</td>\n",
       "      <td>Playground</td>\n",
       "    </tr>\n",
       "    <tr>\n",
       "      <th>2</th>\n",
       "      <td>M4L</td>\n",
       "      <td>East Toronto</td>\n",
       "      <td>The Beaches West,India Bazaar</td>\n",
       "      <td>43.668999</td>\n",
       "      <td>-79.315572</td>\n",
       "      <td>Moorevale Park</td>\n",
       "      <td>43.69361</td>\n",
       "      <td>-79.383465</td>\n",
       "      <td>Playground</td>\n",
       "    </tr>\n",
       "    <tr>\n",
       "      <th>3</th>\n",
       "      <td>M4M</td>\n",
       "      <td>East Toronto</td>\n",
       "      <td>Studio District</td>\n",
       "      <td>43.659526</td>\n",
       "      <td>-79.340923</td>\n",
       "      <td>Moorevale Park</td>\n",
       "      <td>43.69361</td>\n",
       "      <td>-79.383465</td>\n",
       "      <td>Playground</td>\n",
       "    </tr>\n",
       "    <tr>\n",
       "      <th>4</th>\n",
       "      <td>M4N</td>\n",
       "      <td>Central Toronto</td>\n",
       "      <td>Lawrence Park</td>\n",
       "      <td>43.728020</td>\n",
       "      <td>-79.388790</td>\n",
       "      <td>Moorevale Park</td>\n",
       "      <td>43.69361</td>\n",
       "      <td>-79.383465</td>\n",
       "      <td>Playground</td>\n",
       "    </tr>\n",
       "  </tbody>\n",
       "</table>\n",
       "</div>"
      ],
      "text/plain": [
       "  PostalCode          Borough                   Neighborhood  BoroughLatitude  \\\n",
       "0        M4E     East Toronto                    The Beaches        43.676357   \n",
       "1        M4K     East Toronto    The Danforth West,Riverdale        43.679557   \n",
       "2        M4L     East Toronto  The Beaches West,India Bazaar        43.668999   \n",
       "3        M4M     East Toronto                Studio District        43.659526   \n",
       "4        M4N  Central Toronto                  Lawrence Park        43.728020   \n",
       "\n",
       "   BoroughLongitude       VenueName  VenueLatitude  VenueLongitude  \\\n",
       "0        -79.293031  Moorevale Park       43.69361      -79.383465   \n",
       "1        -79.352188  Moorevale Park       43.69361      -79.383465   \n",
       "2        -79.315572  Moorevale Park       43.69361      -79.383465   \n",
       "3        -79.340923  Moorevale Park       43.69361      -79.383465   \n",
       "4        -79.388790  Moorevale Park       43.69361      -79.383465   \n",
       "\n",
       "  VenueCategory  \n",
       "0    Playground  \n",
       "1    Playground  \n",
       "2    Playground  \n",
       "3    Playground  \n",
       "4    Playground  "
      ]
     },
     "execution_count": 36,
     "metadata": {},
     "output_type": "execute_result"
    }
   ],
   "source": [
    "venues_df = pd.DataFrame(venues)\n",
    "venues_df.columns = ['PostalCode', 'Borough', 'Neighborhood', 'BoroughLatitude', 'BoroughLongitude', 'VenueName', 'VenueLatitude', 'VenueLongitude', 'VenueCategory']\n",
    "print(venues_df.shape)\n",
    "venues_df.head()"
   ]
  },
  {
   "cell_type": "code",
   "execution_count": 37,
   "metadata": {},
   "outputs": [
    {
     "data": {
      "text/plain": [
       "PostalCode  Borough           Neighborhood                                                                                        \n",
       "M4E         East Toronto      The Beaches                                                                                             1\n",
       "M4K         East Toronto      The Danforth West,Riverdale                                                                             1\n",
       "M4L         East Toronto      The Beaches West,India Bazaar                                                                           1\n",
       "M4M         East Toronto      Studio District                                                                                         1\n",
       "M4N         Central Toronto   Lawrence Park                                                                                           1\n",
       "M4P         Central Toronto   Davisville North                                                                                        1\n",
       "M4R         Central Toronto   North Toronto West                                                                                      1\n",
       "M4S         Central Toronto   Davisville                                                                                              1\n",
       "M4T         Central Toronto   Moore Park,Summerhill East                                                                              1\n",
       "M4V         Central Toronto   Deer Park,Forest Hill SE,Rathnelly,South Hill,Summerhill West                                           1\n",
       "M4W         Downtown Toronto  Rosedale                                                                                                1\n",
       "M4X         Downtown Toronto  Cabbagetown,St. James Town                                                                              1\n",
       "M4Y         Downtown Toronto  Church and Wellesley                                                                                    1\n",
       "M5A         Downtown Toronto  Harbourfront,Regent Park                                                                                1\n",
       "M5B         Downtown Toronto  Ryerson,Garden District                                                                                 1\n",
       "M5C         Downtown Toronto  St. James Town                                                                                          1\n",
       "M5E         Downtown Toronto  Berczy Park                                                                                             1\n",
       "M5G         Downtown Toronto  Central Bay Street                                                                                      1\n",
       "M5H         Downtown Toronto  Adelaide,King,Richmond                                                                                  1\n",
       "M5J         Downtown Toronto  Harbourfront East,Toronto Islands,Union Station                                                         1\n",
       "M5K         Downtown Toronto  Design Exchange,Toronto Dominion Centre                                                                 1\n",
       "M5L         Downtown Toronto  Commerce Court,Victoria Hotel                                                                           1\n",
       "M5N         Central Toronto   Roselawn                                                                                                1\n",
       "M5P         Central Toronto   Forest Hill North,Forest Hill West                                                                      1\n",
       "M5R         Central Toronto   The Annex,North Midtown,Yorkville                                                                       1\n",
       "M5S         Downtown Toronto  Harbord,University of Toronto                                                                           1\n",
       "M5T         Downtown Toronto  Chinatown,Grange Park,Kensington Market                                                                 1\n",
       "M5V         Downtown Toronto  CN Tower,Bathurst Quay,Island airport,Harbourfront West,King and Spadina,Railway Lands,South Niagara    1\n",
       "M5W         Downtown Toronto  Stn A PO Boxes 25 The Esplanade                                                                         1\n",
       "M5X         Downtown Toronto  First Canadian Place,Underground city                                                                   1\n",
       "M6G         Downtown Toronto  Christie                                                                                                1\n",
       "M6H         West Toronto      Dovercourt Village,Dufferin                                                                             1\n",
       "M6J         West Toronto      Little Portugal,Trinity                                                                                 1\n",
       "M6K         West Toronto      Brockton,Exhibition Place,Parkdale Village                                                              1\n",
       "M6P         West Toronto      High Park,The Junction South                                                                            1\n",
       "M6R         West Toronto      Parkdale,Roncesvalles                                                                                   1\n",
       "M6S         West Toronto      Runnymede,Swansea                                                                                       1\n",
       "M7Y         East Toronto      Business Reply Mail Processing Centre 969 Eastern                                                       1\n",
       "Name: VenueName, dtype: int64"
      ]
     },
     "execution_count": 37,
     "metadata": {},
     "output_type": "execute_result"
    }
   ],
   "source": [
    "venues_df.groupby(['PostalCode', 'Borough', 'Neighborhood'])['VenueName'].count()"
   ]
  },
  {
   "cell_type": "code",
   "execution_count": 39,
   "metadata": {},
   "outputs": [
    {
     "name": "stdout",
     "output_type": "stream",
     "text": [
      "(38, 4)\n"
     ]
    },
    {
     "data": {
      "text/html": [
       "<div>\n",
       "<style scoped>\n",
       "    .dataframe tbody tr th:only-of-type {\n",
       "        vertical-align: middle;\n",
       "    }\n",
       "\n",
       "    .dataframe tbody tr th {\n",
       "        vertical-align: top;\n",
       "    }\n",
       "\n",
       "    .dataframe thead th {\n",
       "        text-align: right;\n",
       "    }\n",
       "</style>\n",
       "<table border=\"1\" class=\"dataframe\">\n",
       "  <thead>\n",
       "    <tr style=\"text-align: right;\">\n",
       "      <th></th>\n",
       "      <th>PostalCode</th>\n",
       "      <th>Borough</th>\n",
       "      <th>Neighborhoods</th>\n",
       "      <th>Playground</th>\n",
       "    </tr>\n",
       "  </thead>\n",
       "  <tbody>\n",
       "    <tr>\n",
       "      <th>0</th>\n",
       "      <td>M4E</td>\n",
       "      <td>East Toronto</td>\n",
       "      <td>The Beaches</td>\n",
       "      <td>1</td>\n",
       "    </tr>\n",
       "    <tr>\n",
       "      <th>1</th>\n",
       "      <td>M4K</td>\n",
       "      <td>East Toronto</td>\n",
       "      <td>The Danforth West,Riverdale</td>\n",
       "      <td>1</td>\n",
       "    </tr>\n",
       "    <tr>\n",
       "      <th>2</th>\n",
       "      <td>M4L</td>\n",
       "      <td>East Toronto</td>\n",
       "      <td>The Beaches West,India Bazaar</td>\n",
       "      <td>1</td>\n",
       "    </tr>\n",
       "    <tr>\n",
       "      <th>3</th>\n",
       "      <td>M4M</td>\n",
       "      <td>East Toronto</td>\n",
       "      <td>Studio District</td>\n",
       "      <td>1</td>\n",
       "    </tr>\n",
       "    <tr>\n",
       "      <th>4</th>\n",
       "      <td>M4N</td>\n",
       "      <td>Central Toronto</td>\n",
       "      <td>Lawrence Park</td>\n",
       "      <td>1</td>\n",
       "    </tr>\n",
       "  </tbody>\n",
       "</table>\n",
       "</div>"
      ],
      "text/plain": [
       "  PostalCode          Borough                  Neighborhoods  Playground\n",
       "0        M4E     East Toronto                    The Beaches           1\n",
       "1        M4K     East Toronto    The Danforth West,Riverdale           1\n",
       "2        M4L     East Toronto  The Beaches West,India Bazaar           1\n",
       "3        M4M     East Toronto                Studio District           1\n",
       "4        M4N  Central Toronto                  Lawrence Park           1"
      ]
     },
     "execution_count": 39,
     "metadata": {},
     "output_type": "execute_result"
    }
   ],
   "source": [
    "# one hot encoding\n",
    "toronto_central_onehot = pd.get_dummies(venues_df[['VenueCategory']], prefix=\"\", prefix_sep=\"\")\n",
    "\n",
    "# add postal, borough and neighborhood column back to dataframe\n",
    "toronto_central_onehot['PostalCode'] = venues_df['PostalCode'] \n",
    "toronto_central_onehot['Borough'] = venues_df['Borough'] \n",
    "toronto_central_onehot['Neighborhoods'] = venues_df['Neighborhood'] \n",
    "\n",
    "# move postal, borough and neighborhood column to the first column\n",
    "fixed_columns = list(toronto_central_onehot.columns[-3:]) + list(toronto_central_onehot.columns[:-3])\n",
    "toronto_central_onehot = toronto_central_onehot[fixed_columns]\n",
    "\n",
    "print(toronto_central_onehot.shape)\n",
    "toronto_central_onehot.head()"
   ]
  },
  {
   "cell_type": "code",
   "execution_count": null,
   "metadata": {},
   "outputs": [],
   "source": []
  }
 ],
 "metadata": {
  "kernelspec": {
   "display_name": "Python 3",
   "language": "python",
   "name": "python3"
  },
  "language_info": {
   "codemirror_mode": {
    "name": "ipython",
    "version": 3
   },
   "file_extension": ".py",
   "mimetype": "text/x-python",
   "name": "python",
   "nbconvert_exporter": "python",
   "pygments_lexer": "ipython3",
   "version": "3.7.3"
  }
 },
 "nbformat": 4,
 "nbformat_minor": 2
}
